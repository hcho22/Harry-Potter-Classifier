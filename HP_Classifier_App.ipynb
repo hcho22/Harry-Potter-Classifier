{
 "cells": [
  {
   "cell_type": "markdown",
   "id": "b6756390",
   "metadata": {},
   "source": [
    "# Harry Potter Classifier"
   ]
  },
  {
   "cell_type": "markdown",
   "id": "0e1f8180",
   "metadata": {},
   "source": [
    "Harry Potter characters classifier - Choose betweeen Harry, Ron, or Hermoine"
   ]
  },
  {
   "cell_type": "code",
   "execution_count": 8,
   "id": "1b519b30",
   "metadata": {},
   "outputs": [],
   "source": [
    "#from fastbook import *\n",
    "#from fastai.vision.widgets import *\n",
    "\n",
    "from fastai.vision.all import *\n",
    "from fastai.vision.widgets import *"
   ]
  },
  {
   "cell_type": "code",
   "execution_count": 9,
   "id": "0f42fc9d",
   "metadata": {},
   "outputs": [],
   "source": [
    "path = Path()"
   ]
  },
  {
   "cell_type": "code",
   "execution_count": 10,
   "id": "2f53b3a9",
   "metadata": {},
   "outputs": [],
   "source": [
    "learn_inf = load_learner(path/'HP3char_061421.pkl', cpu=True)"
   ]
  },
  {
   "cell_type": "code",
   "execution_count": 11,
   "id": "68ec3030",
   "metadata": {},
   "outputs": [],
   "source": [
    "btn_upload = widgets.FileUpload()\n",
    "out_pl = widgets.Output()\n",
    "lbl_pred = widgets.Label()"
   ]
  },
  {
   "cell_type": "code",
   "execution_count": 12,
   "id": "e213b6b9",
   "metadata": {},
   "outputs": [],
   "source": [
    "def on_click_classify(change):\n",
    "  lbl_pred.value = ''\n",
    "  \n",
    "  img = PILImage.create(btn_upload.data[-1])\n",
    "  out_pl.clear_output()\n",
    "  with out_pl: display(img.to_thumb(224, 224))\n",
    "  pred, pred_idx, probs = learn_inf.predict(img)\n",
    "  lbl_pred.value = f'Prediction: {pred}; Probability: {probs[pred_idx]:0.04f}'"
   ]
  },
  {
   "cell_type": "code",
   "execution_count": 13,
   "id": "41bd6280",
   "metadata": {},
   "outputs": [
    {
     "data": {
      "application/vnd.jupyter.widget-view+json": {
       "model_id": "2970e298b1de49b698608a177680ba20",
       "version_major": 2,
       "version_minor": 0
      },
      "text/plain": [
       "VBox(children=(Label(value='Select your Wizard!'), FileUpload(value={}, description='Upload'), Output(), Label…"
      ]
     },
     "metadata": {},
     "output_type": "display_data"
    },
    {
     "data": {
      "text/html": [],
      "text/plain": [
       "<IPython.core.display.HTML object>"
      ]
     },
     "metadata": {},
     "output_type": "display_data"
    },
    {
     "name": "stderr",
     "output_type": "stream",
     "text": [
      "/Users/hcho/opt/anaconda3/envs/fastai/lib/python3.7/site-packages/torch/nn/functional.py:718: UserWarning: Named tensors and all their associated APIs are an experimental feature and subject to change. Please do not use them for anything important until they are released as stable. (Triggered internally at  ../c10/core/TensorImpl.h:1156.)\n",
      "  return torch.max_pool2d(input, kernel_size, stride, padding, dilation, ceil_mode)\n"
     ]
    }
   ],
   "source": [
    "btn_upload.observe(on_click_classify, names=['data'])\n",
    "\n",
    "# Display Predictions\n",
    "display(VBox([widgets.Label('Select your Wizard!'), btn_upload, out_pl, lbl_pred]))"
   ]
  },
  {
   "cell_type": "code",
   "execution_count": null,
   "id": "29ef51d6",
   "metadata": {},
   "outputs": [],
   "source": []
  }
 ],
 "metadata": {
  "kernelspec": {
   "display_name": "Python 3",
   "language": "python",
   "name": "python3"
  },
  "language_info": {
   "codemirror_mode": {
    "name": "ipython",
    "version": 3
   },
   "file_extension": ".py",
   "mimetype": "text/x-python",
   "name": "python",
   "nbconvert_exporter": "python",
   "pygments_lexer": "ipython3",
   "version": "3.7.10"
  }
 },
 "nbformat": 4,
 "nbformat_minor": 5
}
